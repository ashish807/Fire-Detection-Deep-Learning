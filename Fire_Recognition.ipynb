{
  "nbformat": 4,
  "nbformat_minor": 0,
  "metadata": {
    "colab": {
      "name": "Fire Detection Model.ipynb",
      "provenance": [],
      "collapsed_sections": [],
      "authorship_tag": "ABX9TyOnja+T6YK9RZL9BKLnIihh",
      "include_colab_link": true
    },
    "kernelspec": {
      "name": "python3",
      "display_name": "Python 3"
    },
    "accelerator": "GPU"
  },
  "cells": [
    {
      "cell_type": "markdown",
      "metadata": {
        "id": "view-in-github",
        "colab_type": "text"
      },
      "source": [
        "<a href=\"https://colab.research.google.com/github/ashish807/Fire-Detection-Deep-Learning/blob/master/Fire_Recognition.ipynb\" target=\"_parent\"><img src=\"https://colab.research.google.com/assets/colab-badge.svg\" alt=\"Open In Colab\"/></a>"
      ]
    },
    {
      "cell_type": "code",
      "metadata": {
        "id": "cLTTFY3l4LFW",
        "colab_type": "code",
        "colab": {}
      },
      "source": [
        "from google.colab import drive\n",
        "drive.mount('/content/drive')"
      ],
      "execution_count": null,
      "outputs": []
    },
    {
      "cell_type": "code",
      "metadata": {
        "id": "ghooPWXO4OGo",
        "colab_type": "code",
        "colab": {}
      },
      "source": [
        "from tensorflow.keras.preprocessing.image import ImageDataGenerator\n",
        "from tensorflow.keras.preprocessing import image\n",
        "import tensorflow as tf\n",
        "import os\n",
        "import cv2\n",
        "import numpy as np\n",
        "import matplotlib.pyplot as plt"
      ],
      "execution_count": null,
      "outputs": []
    },
    {
      "cell_type": "code",
      "metadata": {
        "id": "eX8NYO_C4W38",
        "colab_type": "code",
        "colab": {}
      },
      "source": [
        "train =ImageDataGenerator(rescale = 1/255)\n",
        "test =ImageDataGenerator(rescale = 1/255)"
      ],
      "execution_count": null,
      "outputs": []
    },
    {
      "cell_type": "code",
      "metadata": {
        "id": "6uVzF_674ZIB",
        "colab_type": "code",
        "colab": {}
      },
      "source": [
        "test_dataset = test.flow_from_directory('/content/drive/My Drive/files/test',target_size=(100,100),class_mode='binary')\n",
        "train_dataset = train.flow_from_directory('/content/drive/My Drive/files/train',target_size=(100,100),batch_size=3,class_mode='binary')"
      ],
      "execution_count": null,
      "outputs": []
    },
    {
      "cell_type": "code",
      "metadata": {
        "id": "P-t1GoBP4fcT",
        "colab_type": "code",
        "colab": {}
      },
      "source": [
        "test_dataset.class_indices"
      ],
      "execution_count": null,
      "outputs": []
    },
    {
      "cell_type": "code",
      "metadata": {
        "id": "Nub4quN549Fi",
        "colab_type": "code",
        "colab": {}
      },
      "source": [
        "model = tf.keras.models.Sequential(\n",
        "    [\n",
        "     tf.keras.layers.Conv2D(16,(3,3),activation='relu', input_shape=(100,100,3)),\n",
        "     tf.keras.layers.BatchNormalization(),\n",
        "     tf.keras.layers.MaxPool2D(2,2),\n",
        "     tf.keras.layers.Dropout(0.2),\n",
        "\n",
        "     tf.keras.layers.Conv2D(64,(3,3),activation='relu'),\n",
        "     tf.keras.layers.BatchNormalization()\n",
        "     tf.keras.layers.MaxPool2D(2,2),\n",
        "\n",
        "\n",
        "     tf.keras.layers.Conv2D(64,(3,3),activation='relu'),\n",
        "     tf.keras.layers.BatchNormalization(),\n",
        "     tf.keras.layers.MaxPool2D(2,2),\n",
        "     tf.keras.layers.Dropout(0.2),\n",
        "     \n",
        "     tf.keras.layers.Conv2D(128,(3,3),activation='relu'),\n",
        "     tf.keras.layers.BatchNormalization(),\n",
        "     tf.keras.layers.MaxPool2D(2,2),\n",
        "\n",
        "     tf.keras.layers.Conv2D(256,(3,3),activation='relu'),\n",
        "     tf.keras.layers.BatchNormalization(),\n",
        "     tf.keras.layers.MaxPool2D(2,2),\n",
        "\n",
        "\n",
        "     \n",
        "\n",
        "     tf.keras.layers.Flatten(),\n",
        "     tf.keras.layers.Dense(512,activation=\"relu\"),\n",
        "     tf.keras.layers.Dense(1,activation=\"sigmoid\")\n",
        "    ]\n",
        ")"
      ],
      "execution_count": null,
      "outputs": []
    },
    {
      "cell_type": "code",
      "metadata": {
        "id": "KzeClm0a4-_8",
        "colab_type": "code",
        "colab": {}
      },
      "source": [
        "model.compile(loss='binary_crossentropy',optimizer ='adam',metrics=['accuracy'])"
      ],
      "execution_count": null,
      "outputs": []
    },
    {
      "cell_type": "code",
      "metadata": {
        "id": "zmGMqRA05QZY",
        "colab_type": "code",
        "colab": {}
      },
      "source": [
        "model_fit = model.fit(train_dataset, steps_per_epoch=3,epochs=1500,validation_data=test_dataset)"
      ],
      "execution_count": null,
      "outputs": []
    },
    {
      "cell_type": "code",
      "metadata": {
        "id": "dSNX6s7f5XUg",
        "colab_type": "code",
        "colab": {}
      },
      "source": [
        "!pip install audioplayer\n",
        "!pip install secure-smtplib"
      ],
      "execution_count": null,
      "outputs": []
    },
    {
      "cell_type": "code",
      "metadata": {
        "id": "xLmmKrZqyFj5",
        "colab_type": "code",
        "colab": {}
      },
      "source": [
        "\n",
        "\n",
        "import smtplib\n",
        "email_status =False\n",
        "dir_path = '/content/drive/My Drive/files/valid'\n",
        "def play_alarm_sound_function():\n",
        "\t\tAudioPlayer(\"/content/drive/My Drive/files/Alarm-Fast-A1-www.fesliyanstudios.com.mp3\").play(block=True)\n",
        "def send_email():\n",
        "  recipientEmail = \"Enter_Recipient_Email\"\n",
        "  recipientEmail = recipientEmail.lower()\n",
        "  try:\n",
        "      server = smtplib.SMTP('smtp.gmail.com', 587)\n",
        "      server.ehlo()\n",
        "      server.starttls()\n",
        "      server.login(\"ashish.adhikari727@gmail.com\", 'icanbenumber1')\n",
        "      server.sendmail('ashish.adhikari727@gmail.com', recipientEmail, \"Warning A Fire Accident has been reported on ABC Company\")\n",
        "      print(\"sent to {}\".format(recipientEmail))\n",
        "      server.close()\n",
        "  except Exception as e:\n",
        "    print(e)\n",
        "\n",
        "for i in os.listdir(dir_path):\n",
        "  img = image.load_img(dir_path+'//'+i, target_size=(100,100))\n",
        "  plt.imshow(img)\n",
        "  plt.show()\n",
        "  #X= img/255.0\n",
        "\n",
        "  X =image.img_to_array(img)\n",
        "  X=np.expand_dims(X,axis=0)\n",
        "  images =np.vstack([X])\n",
        "  val =model.predict(images)\n",
        "\n",
        "  if val==0:\n",
        "    print(\"Not fire\")\n",
        "  else:\n",
        "   # play_alarm_sound_function()\n",
        "    if email_status==False:\n",
        "      send_email()\n",
        "      email_status =True\n",
        "    print(\"Fire\")"
      ],
      "execution_count": null,
      "outputs": []
    },
    {
      "cell_type": "code",
      "metadata": {
        "id": "MbJd0qEG1txQ",
        "colab_type": "code",
        "colab": {}
      },
      "source": [
        ""
      ],
      "execution_count": null,
      "outputs": []
    },
    {
      "cell_type": "code",
      "metadata": {
        "id": "P5cRErj3E1H9",
        "colab_type": "code",
        "colab": {}
      },
      "source": [
        "from IPython.display import display, Javascript\n",
        "from google.colab.output import eval_js\n",
        "from base64 import b64decode\n",
        "\n",
        "def take_photo(filename='photo.jpg', quality=0.8):\n",
        "  js = Javascript('''\n",
        "    async function takePhoto(quality) {\n",
        "      const div = document.createElement('div');\n",
        "      const capture = document.createElement('button');\n",
        "      capture.textContent = 'Capture';\n",
        "      div.appendChild(capture);\n",
        "\n",
        "      const video = document.createElement('video');\n",
        "      video.style.display = 'block';\n",
        "      const stream = await navigator.mediaDevices.getUserMedia({video: true});\n",
        "\n",
        "      document.body.appendChild(div);\n",
        "      div.appendChild(video);\n",
        "      video.srcObject = stream;\n",
        "      await video.play();\n",
        "\n",
        "      // Resize the output to fit the video element.\n",
        "      google.colab.output.setIframeHeight(document.documentElement.scrollHeight, true);\n",
        "\n",
        "      // Wait for Capture to be clicked.\n",
        "      await new Promise((resolve) => capture.onclick = resolve);\n",
        "\n",
        "      const canvas = document.createElement('canvas');\n",
        "      canvas.width = video.videoWidth;\n",
        "      canvas.height = video.videoHeight;\n",
        "      canvas.getContext('2d').drawImage(video, 0, 0);\n",
        "      stream.getVideoTracks()[0].stop();\n",
        "      div.remove();\n",
        "      return canvas.toDataURL('image/jpeg', quality);\n",
        "    }\n",
        "    ''')\n",
        "  display(js)\n",
        "  data = eval_js('takePhoto({})'.format(quality))\n",
        "  binary = b64decode(data.split(',')[1])\n",
        "  with open(filename, 'wb') as f:\n",
        "    f.write(binary)\n",
        "  return filename"
      ],
      "execution_count": null,
      "outputs": []
    },
    {
      "cell_type": "code",
      "metadata": {
        "id": "YCTP0BDJ10Zp",
        "colab_type": "code",
        "colab": {}
      },
      "source": [
        ""
      ],
      "execution_count": null,
      "outputs": []
    },
    {
      "cell_type": "code",
      "metadata": {
        "id": "g6d29iIm2ofs",
        "colab_type": "code",
        "colab": {}
      },
      "source": [
        "from IPython.display import Image\n",
        "try:\n",
        "  filename = take_photo()\n",
        "  print('Saved to {}'.format(filename))\n",
        "  \n",
        "  # Show the image which was just taken.\n",
        "  display(Image(filename))\n",
        "except Exception as err:\n",
        "  # Errors will be thrown if the user does not have a webcam or if they do not\n",
        "  # grant the page permission to access it.\n",
        "  print(str(err))\n",
        "\n",
        "\n",
        "\n",
        "\n",
        "img =cv2.imread('photo.jpg')\n",
        "img =cv2.cvtColor(img,cv2.COLOR_BGR2RGB)\n",
        "img =cv2.resize(img,(100,100))\n",
        "input =image.img_to_array(img)\n",
        "input=np.expand_dims(input,axis=0)\n",
        "images =np.vstack([input])\n",
        "val =model.predict(images)\n",
        "\n",
        "if val==0:\n",
        "  print(\"Not fire\")\n",
        "else:\n",
        "  print(\"Fire\")"
      ],
      "execution_count": null,
      "outputs": []
    }
  ]
}